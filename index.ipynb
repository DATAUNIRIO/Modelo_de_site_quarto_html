{
  "cells": [
    {
      "cell_type": "raw",
      "metadata": {},
      "source": [
        "---\n",
        "title: \"Modelo de site com o quarto html\"\n",
        "format: html\n",
        "---"
      ],
      "id": "09995e4f"
    },
    {
      "cell_type": "markdown",
      "metadata": {},
      "source": [
        "```{css echo=FALSE}\n",
        "\n",
        ".content-block {\n",
        "  padding-top: 20px;\n",
        "  padding-bottom: 10px;\n",
        "  margin-left: 30px;\n",
        "  margin-right: 30px;\n",
        "}\n",
        "\n",
        "#home h1,\n",
        "#home h2 {\n",
        "  text-align: center;\n",
        "}\n",
        "\n",
        "vermelha {\n",
        "    background-color: red;\n",
        "}\n",
        "```\n",
        "\n",
        "\n",
        "This is a course website built with [Quarto](https://quarto.org/).\n",
        "\n",
        "::: {#home}\n",
        "\n",
        "::: {.content-block}\n",
        "\n",
        "# Bayesian Statistics\n",
        "\n",
        "::: {.text-center .text-secondary .fs-4}\n",
        "\n",
        "Independent readings course on Bayesian statistics with R and Stan"
      ],
      "id": "dee4d483"
    }
  ],
  "metadata": {
    "kernelspec": {
      "name": "python3",
      "language": "python",
      "display_name": "Python 3 (ipykernel)"
    }
  },
  "nbformat": 4,
  "nbformat_minor": 5
}