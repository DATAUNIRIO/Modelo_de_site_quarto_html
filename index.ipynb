{
  "cells": [
    {
      "cell_type": "raw",
      "metadata": {},
      "source": [
        "---\n",
        "title: \"Modelo de site com o quarto html\"\n",
        "---"
      ],
      "id": "97dae018"
    },
    {
      "cell_type": "markdown",
      "metadata": {},
      "source": [
        "```{css echo=FALSE}\n",
        "\n",
        ".content-block {\n",
        "  padding-top: 20px;\n",
        "  padding-bottom: 10px;\n",
        "  margin-left: 30px;\n",
        "  margin-right: 30px;\n",
        "}\n",
        "@media(max-width: 700px) {\n",
        "  #home-logo {\n",
        "    max-width: 150px;\n",
        "    margin: 0 auto;\n",
        "  }\n",
        "}\n",
        "@media(min-width: 700px) {\n",
        "  #home-logo {\n",
        "    max-width: 300px;\n",
        "    margin: 0 auto;\n",
        "  }\n",
        "}\n",
        "@media(min-width: 900px) {\n",
        "  .content-block {\n",
        "    margin-left: 50px;\n",
        "    margin-right: 50px;\n",
        "  }\n",
        "}\n",
        "@media (min-width: 1200px) {\n",
        "  .content-block {\n",
        "    max-width: 1100px;\n",
        "    margin: 0 auto;\n",
        "  }\n",
        "}\n",
        "#home h1,\n",
        "#home h2 {\n",
        "  text-align: center;\n",
        "}\n",
        "\n",
        "\n",
        "vermelha {\n",
        "    background-color: red;\n",
        "}\n",
        "```\n",
        "\n",
        "\n",
        "This is a course website built with [Quarto](https://quarto.org/).\n",
        "\n",
        "::: {#home}\n",
        "\n",
        "::: {.content-block}\n",
        "\n",
        "# Bayesian Statistics\n",
        "\n",
        "::: {.text-center .text-secondary .fs-4}\n",
        "\n",
        "Independent readings course on Bayesian statistics with R and Stan"
      ],
      "id": "cd4a8f22"
    }
  ],
  "metadata": {
    "kernelspec": {
      "name": "python3",
      "language": "python",
      "display_name": "Python 3 (ipykernel)"
    }
  },
  "nbformat": 4,
  "nbformat_minor": 5
}